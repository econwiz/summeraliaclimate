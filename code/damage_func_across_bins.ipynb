{
 "cells": [
  {
   "cell_type": "code",
   "execution_count": 1,
   "id": "97781e1e-ec90-4944-988a-d99e69048fe1",
   "metadata": {
    "tags": []
   },
   "outputs": [],
   "source": [
    "import pandas as pd\n",
    "import xarray as xr\n",
    "\n",
    "dir_list_df = pd.read_csv('/user/ab5405/summeraliaclimate/code/dir_list.csv', index_col=0)\n",
    "dir_list = dir_list_df['dir_path'].to_dict()\n"
   ]
  },
  {
   "cell_type": "code",
   "execution_count": 2,
   "id": "e851c197-e200-4068-9a81-02bed0aecfaf",
   "metadata": {
    "tags": []
   },
   "outputs": [
    {
     "data": {
      "text/html": [
       "<div>\n",
       "<style scoped>\n",
       "    .dataframe tbody tr th:only-of-type {\n",
       "        vertical-align: middle;\n",
       "    }\n",
       "\n",
       "    .dataframe tbody tr th {\n",
       "        vertical-align: top;\n",
       "    }\n",
       "\n",
       "    .dataframe thead th {\n",
       "        text-align: right;\n",
       "    }\n",
       "</style>\n",
       "<table border=\"1\" class=\"dataframe\">\n",
       "  <thead>\n",
       "    <tr style=\"text-align: right;\">\n",
       "      <th></th>\n",
       "      <th>varname</th>\n",
       "      <th>freq</th>\n",
       "      <th>model</th>\n",
       "      <th>exp</th>\n",
       "      <th>run</th>\n",
       "      <th>gwl</th>\n",
       "      <th>proj_method</th>\n",
       "      <th>proj_base</th>\n",
       "      <th>dwnscl_method</th>\n",
       "      <th>dwnscl_target</th>\n",
       "      <th>suffix</th>\n",
       "      <th>filetype</th>\n",
       "      <th>path</th>\n",
       "    </tr>\n",
       "  </thead>\n",
       "  <tbody>\n",
       "    <tr>\n",
       "      <th>0</th>\n",
       "      <td>tasdmgfparams</td>\n",
       "      <td>day</td>\n",
       "      <td>IPSL-CM6A-LR</td>\n",
       "      <td>ssp245</td>\n",
       "      <td>r22i1p1f1</td>\n",
       "      <td>ALLGWLs</td>\n",
       "      <td>QDM</td>\n",
       "      <td>ERA5-025</td>\n",
       "      <td>QPLAD</td>\n",
       "      <td>025deg</td>\n",
       "      <td>CONUS</td>\n",
       "      <td>zarr</td>\n",
       "      <td>/shared/share_hle/data/climate_proc/IPSL-CM6A-...</td>\n",
       "    </tr>\n",
       "    <tr>\n",
       "      <th>1</th>\n",
       "      <td>tasdmgfparams</td>\n",
       "      <td>day</td>\n",
       "      <td>IPSL-CM6A-LR</td>\n",
       "      <td>ssp245</td>\n",
       "      <td>r1i1p1f1</td>\n",
       "      <td>ALLGWLs</td>\n",
       "      <td>QDM</td>\n",
       "      <td>ERA5-025</td>\n",
       "      <td>QPLAD</td>\n",
       "      <td>025deg</td>\n",
       "      <td>CONUS</td>\n",
       "      <td>zarr</td>\n",
       "      <td>/shared/share_hle/data/climate_proc/IPSL-CM6A-...</td>\n",
       "    </tr>\n",
       "    <tr>\n",
       "      <th>2</th>\n",
       "      <td>tasdmgfparams</td>\n",
       "      <td>day</td>\n",
       "      <td>IPSL-CM6A-LR</td>\n",
       "      <td>ssp245</td>\n",
       "      <td>r2i1p1f1</td>\n",
       "      <td>ALLGWLs</td>\n",
       "      <td>QDM</td>\n",
       "      <td>ERA5-025</td>\n",
       "      <td>QPLAD</td>\n",
       "      <td>025deg</td>\n",
       "      <td>CONUS</td>\n",
       "      <td>zarr</td>\n",
       "      <td>/shared/share_hle/data/climate_proc/IPSL-CM6A-...</td>\n",
       "    </tr>\n",
       "    <tr>\n",
       "      <th>3</th>\n",
       "      <td>tasdmgfparams</td>\n",
       "      <td>day</td>\n",
       "      <td>IPSL-CM6A-LR</td>\n",
       "      <td>ssp245</td>\n",
       "      <td>r11i1p1f1</td>\n",
       "      <td>ALLGWLs</td>\n",
       "      <td>QDM</td>\n",
       "      <td>ERA5-025</td>\n",
       "      <td>QPLAD</td>\n",
       "      <td>025deg</td>\n",
       "      <td>CONUS</td>\n",
       "      <td>zarr</td>\n",
       "      <td>/shared/share_hle/data/climate_proc/IPSL-CM6A-...</td>\n",
       "    </tr>\n",
       "    <tr>\n",
       "      <th>4</th>\n",
       "      <td>tasdmgfparams</td>\n",
       "      <td>day</td>\n",
       "      <td>IPSL-CM6A-LR</td>\n",
       "      <td>ssp245</td>\n",
       "      <td>r25i1p1f1</td>\n",
       "      <td>ALLGWLs</td>\n",
       "      <td>QDM</td>\n",
       "      <td>ERA5-025</td>\n",
       "      <td>QPLAD</td>\n",
       "      <td>025deg</td>\n",
       "      <td>CONUS</td>\n",
       "      <td>zarr</td>\n",
       "      <td>/shared/share_hle/data/climate_proc/IPSL-CM6A-...</td>\n",
       "    </tr>\n",
       "  </tbody>\n",
       "</table>\n",
       "</div>"
      ],
      "text/plain": [
       "         varname freq         model     exp        run      gwl proj_method  \\\n",
       "0  tasdmgfparams  day  IPSL-CM6A-LR  ssp245  r22i1p1f1  ALLGWLs         QDM   \n",
       "1  tasdmgfparams  day  IPSL-CM6A-LR  ssp245   r1i1p1f1  ALLGWLs         QDM   \n",
       "2  tasdmgfparams  day  IPSL-CM6A-LR  ssp245   r2i1p1f1  ALLGWLs         QDM   \n",
       "3  tasdmgfparams  day  IPSL-CM6A-LR  ssp245  r11i1p1f1  ALLGWLs         QDM   \n",
       "4  tasdmgfparams  day  IPSL-CM6A-LR  ssp245  r25i1p1f1  ALLGWLs         QDM   \n",
       "\n",
       "  proj_base dwnscl_method dwnscl_target suffix filetype  \\\n",
       "0  ERA5-025         QPLAD        025deg  CONUS     zarr   \n",
       "1  ERA5-025         QPLAD        025deg  CONUS     zarr   \n",
       "2  ERA5-025         QPLAD        025deg  CONUS     zarr   \n",
       "3  ERA5-025         QPLAD        025deg  CONUS     zarr   \n",
       "4  ERA5-025         QPLAD        025deg  CONUS     zarr   \n",
       "\n",
       "                                                path  \n",
       "0  /shared/share_hle/data/climate_proc/IPSL-CM6A-...  \n",
       "1  /shared/share_hle/data/climate_proc/IPSL-CM6A-...  \n",
       "2  /shared/share_hle/data/climate_proc/IPSL-CM6A-...  \n",
       "3  /shared/share_hle/data/climate_proc/IPSL-CM6A-...  \n",
       "4  /shared/share_hle/data/climate_proc/IPSL-CM6A-...  "
      ]
     },
     "execution_count": 2,
     "metadata": {},
     "output_type": "execute_result"
    }
   ],
   "source": [
    "from funcs_support import get_filepaths\n",
    "\n",
    "df_paths = get_filepaths(source_dir='proc', dir_list=dir_list)\n",
    "df_paths.head()"
   ]
  },
  {
   "cell_type": "code",
   "execution_count": 3,
   "id": "3ddb1799-03b1-4e44-9fb8-b51d19a82ef0",
   "metadata": {
    "tags": []
   },
   "outputs": [
    {
     "name": "stdout",
     "output_type": "stream",
     "text": [
      "<class 'pandas.core.frame.DataFrame'>\n"
     ]
    }
   ],
   "source": [
    "df = df_paths.query(\"varname == 'tasdmgfparams' and gwl == 'ALLGWLs'\").copy()\n",
    "print(type(df))"
   ]
  },
  {
   "cell_type": "code",
   "execution_count": 4,
   "id": "d91969d6-a794-4677-8db4-a401dc67876c",
   "metadata": {
    "tags": []
   },
   "outputs": [],
   "source": [
    "import numpy as np\n",
    "import pandas as pd"
   ]
  },
  {
   "cell_type": "code",
   "execution_count": 6,
   "id": "0c12ae62-4512-4563-89b5-bb220359ec1c",
   "metadata": {
    "tags": []
   },
   "outputs": [],
   "source": [
    "dmgf = xr.DataArray([0.69,0.59,0.64,0.36,0.27,0,0.12,0.23,0.33,0.94],dims=['bin'],coords=[np.arange(1,11)])\n",
    "bins_dng = np.append(np.append(-np.inf,(np.arange(10,91,10)+459.67)*5/9),np.inf)\n",
    "bin_name_dng = '_dng'\n",
    "\n",
    "# This was total county income, Table 3. Wanted Table 2 instead\n",
    "#dmgf_dnh = xr.DataArray([6.55,4.28,-1.73,-5.74,-10.61,-5.47,-3.12,-2.47,-1.07,-1.00,0,-2.77,-7.46,-6.92,-14.78,-16.71,-20.56],\n",
    "#                          dims=['bin'],coords=[np.arange(1,18)])\n",
    "\n",
    "# This is from table 2: \"The effect of daily temperature on log total annual income per capita\"\n",
    "dmgf_dnh = xr.DataArray([0.000234,0.000126,-0.000144,-0.000269,-0.000322,-0.000195,-0.000119,-0.000074,-0.000003,-0.000036,\n",
    "                         0,-0.000111,-0.000311,-0.000294,-0.000585,-0.000646,-0.000757],\n",
    "                           dims=['bin'],coords=[np.arange(1,18)])\n",
    "bins_dnh = np.append(np.append(-np.inf,np.arange(-15,31,3)+273.15),np.inf)\n",
    "bin_name_dnh = '_dnh'"
   ]
  },
  {
   "cell_type": "code",
   "execution_count": 69,
   "id": "4ceb9f2e-35b0-40ec-8f48-49847c782fa1",
   "metadata": {
    "tags": []
   },
   "outputs": [],
   "source": [
    "bin_edges_dng = np.array([\n",
    "    -np.inf,\n",
    "    *(((np.arange(10, 91, 10) + 459.67) * 5/9)),  # 10°F to 90°F inclusive\n",
    "    np.inf\n",
    "])\n",
    "\n",
    "bin_edges_dnh = np.append(np.append(-np.inf, np.arange(-15, 31, 3) + 273.15), np.inf)\n",
    "\n",
    "\n",
    "impact_dng_list = []\n",
    "impact_dnh_list = []\n",
    "model_labels = []\n",
    "run_labels = []\n",
    "\n",
    "dmgf_dng_coarse = dmgf.coarsen(bin=2, boundary='pad').sum()\n",
    "dmgf_dnh_coarse = dmgf_dnh.coarsen(bin=2, boundary='pad').sum()\n",
    "\n",
    "for i, row in df.iterrows():\n",
    "    ds = xr.open_zarr(row['path'])\n",
    "\n",
    "    gwl_2 = ds['bins_behrer'].sel(gwl=2.0, method='nearest')\n",
    "    gwl_06 = ds['bins_behrer'].sel(gwl=0.61, method='nearest')\n",
    "    diff = gwl_2 - gwl_06\n",
    "\n",
    "    rebinned = diff.coarsen(bin_f=2, boundary = 'pad').sum()\n",
    "    rebinned = rebinned.rename({'bin_f': 'bin_rebinned'})\n",
    "\n",
    "    impact_dng = (rebinned * dmgf_dng_coarse).sum(dim='bin_rebinned')\n",
    "    impact_dnh = (rebinned * dmgf_dnh_coarse).sum(dim='bin_rebinned')\n",
    "\n",
    "    impact_dng_list.append(impact_dng)\n",
    "    impact_dnh_list.append(impact_dnh)\n",
    "    model_labels.append(row['model'])\n",
    "    run_labels.append(row['run'])\n"
   ]
  },
  {
   "cell_type": "code",
   "execution_count": 71,
   "id": "09d9adcd-7273-49af-a545-25bff61db2f2",
   "metadata": {
    "tags": []
   },
   "outputs": [
    {
     "name": "stdout",
     "output_type": "stream",
     "text": [
      "[253.98 256.76 259.54 262.32 265.09 267.87 270.65 273.43 276.21 278.98\n",
      " 281.76 284.54 287.32 290.09 292.87 295.65 298.43 301.21 303.98 306.76\n",
      " 309.54 312.32]\n"
     ]
    }
   ],
   "source": [
    "ds = xr.open_zarr(df.iloc[0]['path'])\n",
    "print(np.round(ds['bin_f'].values, 2))"
   ]
  },
  {
   "cell_type": "code",
   "execution_count": 72,
   "id": "551f9964-675b-441d-a054-09fff919892e",
   "metadata": {
    "tags": []
   },
   "outputs": [],
   "source": [
    "def rebin_to_damage_bins(diff, bin_f_vals, bin_edges, dmgf):\n",
    "    rebinned = []\n",
    "    for i in range(len(bin_edges) - 1):\n",
    "        mask = (bin_f_vals >= bin_edges[i]) & (bin_f_vals < bin_edges[i+1])\n",
    "        rebinned.append(diff.sel(bin_f=mask).sum(dim='bin_f'))\n",
    "\n",
    "    rebinned = xr.concat(rebinned, dim='bin')\n",
    "    rebinned.coords['bin'] = dmgf['bin']\n",
    "    return rebinned"
   ]
  },
  {
   "cell_type": "code",
   "execution_count": 73,
   "id": "63a94979-becc-4f8e-b235-5f43f48843ba",
   "metadata": {
    "tags": []
   },
   "outputs": [
    {
     "name": "stdout",
     "output_type": "stream",
     "text": [
      "(10, 120, 268)\n",
      "[ 1  2  3  4  5  6  7  8  9 10]\n"
     ]
    }
   ],
   "source": [
    "ds = xr.open_zarr(df.iloc[0]['path'])\n",
    "bin_f_vals = ds['bin_f'].values\n",
    "\n",
    "gwl2 = ds['bins_behrer'].sel(gwl=2.0, method='nearest')\n",
    "gwl06 = ds['bins_behrer'].sel(gwl=0.61, method='nearest')\n",
    "diff = gwl2 - gwl06\n",
    "\n",
    "rebinned_dng = rebin_to_damage_bins(diff, bin_f_vals, bin_edges_dng, dmgf)\n",
    "print(rebinned_dng.shape)\n",
    "print(rebinned_dng.coords['bin'].values)"
   ]
  },
  {
   "cell_type": "code",
   "execution_count": 75,
   "id": "d2ea0eb9-aa70-474f-84ff-4328f39177fc",
   "metadata": {
    "tags": []
   },
   "outputs": [
    {
     "name": "stdout",
     "output_type": "stream",
     "text": [
      "Days per bin: [-15.4    2.8   -3.1   -4.2  -14.6    0.45   9.9   23.5    0.65   0.  ]\n",
      "Dmgf: [0.69 0.59 0.64 0.36 0.27 0.   0.12 0.23 0.33 0.94]\n",
      "Expected impact at (100,150): -9.604500000000002\n"
     ]
    }
   ],
   "source": [
    "lat_idx = 35\n",
    "lon_idx = 150\n",
    "\n",
    "print(\"Days per bin:\", np.round(rebinned_dng[:, lat_idx, lon_idx].values, 2))\n",
    "print(\"Dmgf:\", dmgf.values)\n",
    "\n",
    "impact = (rebinned_dng[:, lat_idx, lon_idx] * dmgf).compute().sum().item()\n",
    "print(f\"Expected impact at ({lat_idx},{lon_idx}):\", impact)"
   ]
  },
  {
   "cell_type": "code",
   "execution_count": 83,
   "id": "5eb3a571-ed11-4461-9ca0-a4bcf60eb236",
   "metadata": {
    "tags": []
   },
   "outputs": [
    {
     "name": "stdout",
     "output_type": "stream",
     "text": [
      "Phoenix days in each bin: [  0.     0.    -0.05  -0.7  -15.9   -9.45   6.6   -2.7   -6.1   28.3 ]\n",
      "Damage function values:    [0.69 0.59 0.64 0.36 0.27 0.   0.12 0.23 0.33 0.94]\n",
      "Phoenix estimated impact:  20.18\n"
     ]
    }
   ],
   "source": [
    "lat_phx = 33.45\n",
    "lon_phx = -112.07\n",
    "\n",
    "def check_impact_phoenix(rebinned, dmgf, lat_phx=33.45, lon_phx=-112.07):\n",
    "    lat_idx = abs(rebinned.lat - lat_phx).argmin().item()\n",
    "    lon_idx = abs(rebinned.lon - lon_phx).argmin().item()\n",
    "\n",
    "    days_in_bins = rebinned.isel(lat=lat_idx, lon=lon_idx).values\n",
    "    dmgf_vals = dmgf.values\n",
    "\n",
    "    if len(days_in_bins) != len(dmgf_vals):\n",
    "        raise ValueError(f\"Mismatch: {len(days_in_bins)} days vs {len(dmgf_vals)} dmgf bins\")\n",
    "\n",
    "    impact = float((days_in_bins * dmgf_vals).sum())\n",
    "    print(\"Phoenix days in each bin:\", np.round(days_in_bins, 2))\n",
    "    print(\"Damage function values:   \", np.round(dmgf_vals, 3))\n",
    "    print(\"Phoenix estimated impact: \", round(impact, 2))\n",
    "    return impact\n",
    "\n",
    "\n",
    "impact_phx_dng = check_impact_phoenix(rebinned_dng, dmgf)\n",
    "\n"
   ]
  },
  {
   "cell_type": "code",
   "execution_count": 76,
   "id": "f32144ca-b7ed-4b6e-b957-a2751d4526f3",
   "metadata": {
    "tags": []
   },
   "outputs": [
    {
     "data": {
      "image/png": "[encoded data removed]",
      "text/plain": [
       "<Figure size 1000x400 with 2 Axes>"
      ]
     },
     "metadata": {},
     "output_type": "display_data"
    }
   ],
   "source": [
    "impact_map = (rebinned_dng * dmgf).sum(dim='bin')\n",
    "impact_map.plot(cmap='Reds', figsize=(10, 4))\n",
    "plt.title(\"Mortality Impact\")\n",
    "plt.show()\n"
   ]
  },
  {
   "cell_type": "code",
   "execution_count": 68,
   "id": "9c805de0-a9a9-42d5-9e54-ee7c01b31446",
   "metadata": {
    "tags": []
   },
   "outputs": [
    {
     "ename": "NameError",
     "evalue": "name 'bin_edges_dng' is not defined",
     "output_type": "error",
     "traceback": [
      "\u001b[31m---------------------------------------------------------------------------\u001b[39m",
      "\u001b[31mNameError\u001b[39m                                 Traceback (most recent call last)",
      "\u001b[36mCell\u001b[39m\u001b[36m \u001b[39m\u001b[32mIn[68]\u001b[39m\u001b[32m, line 15\u001b[39m\n\u001b[32m     12\u001b[39m diff = gwl_2 - gwl_06  \u001b[38;5;66;03m# shape: (bin_f, lat, lon)\u001b[39;00m\n\u001b[32m     14\u001b[39m \u001b[38;5;66;03m# Manual binning using np.digitize\u001b[39;00m\n\u001b[32m---> \u001b[39m\u001b[32m15\u001b[39m bin_indices_dng = np.digitize(ds[\u001b[33m'\u001b[39m\u001b[33mbin_f\u001b[39m\u001b[33m'\u001b[39m].values, \u001b[43mbin_edges_dng\u001b[49m) - \u001b[32m1\u001b[39m  \u001b[38;5;66;03m# adjust to 0-based\u001b[39;00m\n\u001b[32m     16\u001b[39m rebinned_dng = xr.DataArray(\n\u001b[32m     17\u001b[39m     np.zeros((\u001b[38;5;28mlen\u001b[39m(bin_edges_dng)-\u001b[32m1\u001b[39m, diff.shape[\u001b[32m1\u001b[39m], diff.shape[\u001b[32m2\u001b[39m])),\n\u001b[32m     18\u001b[39m     dims=(\u001b[33m'\u001b[39m\u001b[33mbin\u001b[39m\u001b[33m'\u001b[39m, \u001b[33m'\u001b[39m\u001b[33mlat\u001b[39m\u001b[33m'\u001b[39m, \u001b[33m'\u001b[39m\u001b[33mlon\u001b[39m\u001b[33m'\u001b[39m),\n\u001b[32m     19\u001b[39m     coords={\u001b[33m'\u001b[39m\u001b[33mbin\u001b[39m\u001b[33m'\u001b[39m: np.arange(\u001b[38;5;28mlen\u001b[39m(bin_edges_dng)-\u001b[32m1\u001b[39m), \u001b[33m'\u001b[39m\u001b[33mlat\u001b[39m\u001b[33m'\u001b[39m: ds.lat, \u001b[33m'\u001b[39m\u001b[33mlon\u001b[39m\u001b[33m'\u001b[39m: ds.lon}\n\u001b[32m     20\u001b[39m )\n\u001b[32m     22\u001b[39m \u001b[38;5;28;01mfor\u001b[39;00m b \u001b[38;5;129;01min\u001b[39;00m \u001b[38;5;28mrange\u001b[39m(\u001b[38;5;28mlen\u001b[39m(bin_edges_dng)-\u001b[32m1\u001b[39m):\n",
      "\u001b[31mNameError\u001b[39m: name 'bin_edges_dng' is not defined"
     ]
    }
   ],
   "source": [
    "for i, row in df.iterrows():\n",
    "    ds = xr.open_zarr(row['path'])\n",
    "\n",
    "    # Convert bin_f to °F (if not already)\n",
    "    bin_f_K = ds['bin_f'].values\n",
    "    bin_f_F = (bin_f_K - 273.15) * 9/5 + 32\n",
    "    ds = ds.assign_coords(bin_f=bin_f_F)\n",
    "\n",
    "    # Select warming levels\n",
    "    gwl_2 = ds['bins_behrer'].sel(gwl=2.0, method='nearest')\n",
    "    gwl_06 = ds['bins_behrer'].sel(gwl=0.61, method='nearest')\n",
    "    diff = gwl_2 - gwl_06  # shape: (bin_f, lat, lon)\n",
    "\n",
    "    # Manual binning using np.digitize\n",
    "    bin_indices_dng = np.digitize(ds['bin_f'].values, bin_edges_dng) - 1  # adjust to 0-based\n",
    "    rebinned_dng = xr.DataArray(\n",
    "        np.zeros((len(bin_edges_dng)-1, diff.shape[1], diff.shape[2])),\n",
    "        dims=('bin', 'lat', 'lon'),\n",
    "        coords={'bin': np.arange(len(bin_edges_dng)-1), 'lat': ds.lat, 'lon': ds.lon}\n",
    "    )\n",
    "\n",
    "    for b in range(len(bin_edges_dng)-1):\n",
    "        mask = bin_indices_dng == b\n",
    "        rebinned_dng[b] = diff[mask, :, :].sum(dim='bin_f')\n",
    "\n",
    "    # Same logic for dnh if needed, using bin_edges_dnh\n",
    "\n",
    "    # Multiply\n",
    "    dmgf_dng_array = dmgf.values  # match shape to rebinned_dng\n",
    "    impact_dng = (rebinned_dng * dmgf_dng_array[:, None, None]).sum(dim='bin')\n",
    "    impact_dng_list.append(impact_dng)"
   ]
  }
 ],
 "metadata": {
  "kernelspec": {
   "display_name": "Python (hle_iv)",
   "language": "python",
   "name": "hle_iv"
  },
  "language_info": {
   "codemirror_mode": {
    "name": "ipython",
    "version": 3
   },
   "file_extension": ".py",
   "mimetype": "text/x-python",
   "name": "python",
   "nbconvert_exporter": "python",
   "pygments_lexer": "ipython3",
   "version": "3.12.11"
  }
 },
 "nbformat": 4,
 "nbformat_minor": 5
}
