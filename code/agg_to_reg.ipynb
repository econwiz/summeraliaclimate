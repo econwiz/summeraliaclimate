{
 "cells": [
  {
   "cell_type": "code",
   "execution_count": 1,
   "id": "372a2629-83a4-49fb-a223-89d2992a2516",
   "metadata": {},
   "outputs": [],
   "source": [
    "import xagg as xa\n",
    "import geopandas as gpd \n",
    "import xarray as xr\n",
    "import pandas as pd\n",
    "import pyreadstat"
   ]
  },
  {
   "cell_type": "code",
   "execution_count": 2,
   "id": "a0e99d93-3add-41d5-a405-9f19e0c16985",
   "metadata": {
    "tags": []
   },
   "outputs": [
    {
     "data": {
      "text/html": [
       "<div>\n",
       "<style scoped>\n",
       "    .dataframe tbody tr th:only-of-type {\n",
       "        vertical-align: middle;\n",
       "    }\n",
       "\n",
       "    .dataframe tbody tr th {\n",
       "        vertical-align: top;\n",
       "    }\n",
       "\n",
       "    .dataframe thead th {\n",
       "        text-align: right;\n",
       "    }\n",
       "</style>\n",
       "<table border=\"1\" class=\"dataframe\">\n",
       "  <thead>\n",
       "    <tr style=\"text-align: right;\">\n",
       "      <th></th>\n",
       "      <th>product</th>\n",
       "      <th>filepath</th>\n",
       "    </tr>\n",
       "  </thead>\n",
       "  <tbody>\n",
       "    <tr>\n",
       "      <th>0</th>\n",
       "      <td>ERA5-025</td>\n",
       "      <td>/shared/share_hle/data/climate_raw/ERA5-025/ta...</td>\n",
       "    </tr>\n",
       "    <tr>\n",
       "      <th>1</th>\n",
       "      <td>GMFD</td>\n",
       "      <td>/shared/share_hle/data/climate_raw/GMFD/tas_da...</td>\n",
       "    </tr>\n",
       "    <tr>\n",
       "      <th>2</th>\n",
       "      <td>MERRA2</td>\n",
       "      <td>/shared/share_hle/data/climate_raw/MERRA2/tas_...</td>\n",
       "    </tr>\n",
       "    <tr>\n",
       "      <th>3</th>\n",
       "      <td>JRA-3Q</td>\n",
       "      <td>/shared/share_hle/data/climate_raw/JRA-3Q/tas_...</td>\n",
       "    </tr>\n",
       "  </tbody>\n",
       "</table>\n",
       "</div>"
      ],
      "text/plain": [
       "    product                                           filepath\n",
       "0  ERA5-025  /shared/share_hle/data/climate_raw/ERA5-025/ta...\n",
       "1   GMFD     /shared/share_hle/data/climate_raw/GMFD/tas_da...\n",
       "2   MERRA2   /shared/share_hle/data/climate_raw/MERRA2/tas_...\n",
       "3   JRA-3Q   /shared/share_hle/data/climate_raw/JRA-3Q/tas_..."
      ]
     },
     "execution_count": 2,
     "metadata": {},
     "output_type": "execute_result"
    }
   ],
   "source": [
    "df_paths = pd.read_csv(\"car_paths.csv\", dtype=str)\n",
    "\n",
    "df_paths.head()"
   ]
  },
  {
   "cell_type": "code",
   "execution_count": 6,
   "id": "c706b581-1ae2-45da-b52a-623eae893d16",
   "metadata": {
    "tags": []
   },
   "outputs": [],
   "source": [
    "ds = xr.open_zarr(df_paths['filepath'].iloc[0], consolidated=False)"
   ]
  },
  {
   "cell_type": "code",
   "execution_count": 7,
   "id": "81c154b1-4a8d-4d41-8b53-68e7c3cd2c04",
   "metadata": {
    "tags": []
   },
   "outputs": [
    {
     "name": "stdout",
     "output_type": "stream",
     "text": [
      "<xarray.DataArray 'time' (time: 16071)> Size: 129kB\n",
      "array(['1981-01-01T00:00:00.000000000', '1981-01-02T00:00:00.000000000',\n",
      "       '1981-01-03T00:00:00.000000000', ..., '2024-12-29T00:00:00.000000000',\n",
      "       '2024-12-30T00:00:00.000000000', '2024-12-31T00:00:00.000000000'],\n",
      "      shape=(16071,), dtype='datetime64[ns]')\n",
      "Coordinates:\n",
      "  * time     (time) datetime64[ns] 129kB 1981-01-01 1981-01-02 ... 2024-12-31\n",
      "Attributes:\n",
      "    long_name:  time\n"
     ]
    }
   ],
   "source": [
    "print(ds.time)"
   ]
  },
  {
   "cell_type": "code",
   "execution_count": 3,
   "id": "51263571-15ea-4f55-ad3c-6a811a1ceaa4",
   "metadata": {
    "tags": []
   },
   "outputs": [],
   "source": [
    "df = df_paths.copy()"
   ]
  },
  {
   "cell_type": "code",
   "execution_count": 4,
   "id": "d0421e69-d916-418a-a53d-011012788107",
   "metadata": {
    "tags": []
   },
   "outputs": [
    {
     "name": "stderr",
     "output_type": "stream",
     "text": [
      "/user/ab5405/.conda/envs/hle_iv/lib/python3.12/site-packages/pyogrio/raw.py:198: RuntimeWarning: /shared/share_hle/data/aux_data/geo_data/impact-region.shp contains polygon(s) with rings with invalid winding order. Autocorrecting them, but that shapefile should be corrected using ogr2ogr for example.\n",
      "  return ogr_read(\n"
     ]
    }
   ],
   "source": [
    "shape_path = \"/shared/share_hle/data/aux_data/geo_data/impact-region.shp\"\n",
    "\n",
    "gdf = gpd.read_file(shape_path)"
   ]
  },
  {
   "cell_type": "code",
   "execution_count": 5,
   "id": "b8fad9a7-309d-412b-bdae-d1543be00213",
   "metadata": {
    "tags": []
   },
   "outputs": [
    {
     "name": "stdout",
     "output_type": "stream",
     "text": [
      "Shape: (24378, 7)\n",
      "Columns: ['gadmid', 'hierid', 'color', 'ISO', 'AREA', 'PERIMETER', 'geometry']\n",
      "CRS: EPSG:4326\n",
      "Total bounds: [-180.00001526  -90.          180.           83.62741852]\n",
      "Geom types: ['Polygon' 'MultiPolygon']\n",
      "Memory usage:\n",
      " Index            132\n",
      "gadmid        195024\n",
      "hierid       1541437\n",
      "color         195024\n",
      "ISO          1267656\n",
      "AREA          195024\n",
      "PERIMETER     195024\n",
      "geometry      195024\n",
      "dtype: int64\n"
     ]
    }
   ],
   "source": [
    "# 1) Number of regions × number of columns\n",
    "print(\"Shape:\", gdf.shape)         # e.g. (n_regions, n_fields)\n",
    "\n",
    "# 2) List all columns\n",
    "print(\"Columns:\", gdf.columns.tolist())\n",
    "\n",
    "# 3) CRS (coordinate reference system)\n",
    "print(\"CRS:\", gdf.crs)\n",
    "\n",
    "# 4) Bounding box of all geometries [minx, miny, maxx, maxy]\n",
    "print(\"Total bounds:\", gdf.total_bounds)\n",
    "\n",
    "# 5) Geometry types (should all be Polygon or MultiPolygon)\n",
    "print(\"Geom types:\", gdf.geometry.geom_type.unique())\n",
    "\n",
    "# 6) Memory footprint\n",
    "print(\"Memory usage:\\n\", gdf.memory_usage(deep=True))"
   ]
  },
  {
   "cell_type": "code",
   "execution_count": null,
   "id": "d6140dfb-6f49-455b-8a47-ce08b7426751",
   "metadata": {
    "tags": []
   },
   "outputs": [],
   "source": [
    "ds = ds.assign(T1 = ds.tas, T2 = ds.tas**2, T3 = ds.tas**3,T4 = ds.tas**4)\n",
    "\n",
    "# 4) Sum over days and take the mean\n",
    "T1_sum = ds.T1.sum(\"time\")\n",
    "T2_sum = ds.T2.sum(\"time\")\n",
    "T3_sum = ds.T3.sum(\"time\")\n",
    "T4_sum = ds.T4.sum(\"time\")\n",
    "Tmean  = ds.tas.mean(\"time\")"
   ]
  },
  {
   "cell_type": "code",
   "execution_count": null,
   "id": "38a110a8-9e36-4b6c-9816-cd2ada1c3a57",
   "metadata": {
    "tags": []
   },
   "outputs": [],
   "source": [
    "def open_climate(ds_path):\n",
    "    if ds_path.endswith(\".zarr\"):\n",
    "        return xr.open_zarr(ds_path, consolidated=False)\n",
    "    else:\n",
    "        return xr.open_dataset(ds_path)\n",
    "\n"
   ]
  },
  {
   "cell_type": "code",
   "execution_count": null,
   "id": "5ee32187-cbcc-47b1-86b4-5e235251bb37",
   "metadata": {},
   "outputs": [],
   "source": [
    "xa.set_options(impl=\"numba\", silent=True)\n",
    "\n",
    "all_rows = []\n",
    "\n",
    "years = range(1957, 2014)\n",
    "\n",
    "for i, row in df.iterrows():\n",
    "    ds = open_climate(row['filepath'])\n",
    "    \n",
    "    product = row[\"product\"]\n",
    "    path     = row[\"filepath\"]\n",
    "    print(f\"Processing {product}\")\n",
    "    \n",
    "    wm      = xa.pixel_overlaps(ds_grid, gdf)\n",
    "    \n",
    "    for yr in years:\n",
    "        ds_yr = ds_all.sel(time=slice(f\"{yr}-01-01\", f\"{yr}-12-31\"))\n",
    "\n",
    "        ds_poly = xr.Dataset({\n",
    "            \"T1_sum\": (ds_yr.tas**1).sum(\"time\"),\n",
    "            \"T2_sum\": (ds_yr.tas**2).sum(\"time\"),\n",
    "            \"T3_sum\": (ds_yr.tas**3).sum(\"time\"),\n",
    "            \"T4_sum\": (ds_yr.tas**4).sum(\"time\"),\n",
    "            \"Tmean\" :  ds_yr.tas.mean(\"time\"),\n",
    "        })\n",
    "\n",
    "        agg    = xa.aggregate(ds_poly, wm)\n",
    "        df_reg = agg.to_dataframe().reset_index()\n",
    "\n",
    "        df_reg[\"product\"] = product\n",
    "        df_reg[\"year\"]    = yr\n",
    "\n",
    "        all_rows.append(df_reg)\n",
    "\n",
    "big = pd.concat(all_rows, ignore_index=True)"
   ]
  },
  {
   "cell_type": "code",
   "execution_count": null,
   "id": "7bca7042-6fbc-4245-aa3b-1a5a9f585978",
   "metadata": {},
   "outputs": [],
   "source": [
    "big = big.rename(columns={\"region_id\": \"region\"})\n",
    "if \"time\" in big.columns:\n",
    "    big = big.drop(columns=\"time\")\n",
    "\n",
    "cols = [\"product\", \"region\", \"year\"] + [c for c in big.columns if c not in (\"product\",\"region\",\"year\")]\n",
    "big  = big[cols]\n",
    "\n",
    "out_path = \"/mnt/data/all_products_by_region_year.dta\"\n",
    "big.to_stata(out_path, write_index=False, version=118)\n",
    "print(f\"Wrote {out_path}\")"
   ]
  }
 ],
 "metadata": {
  "kernelspec": {
   "display_name": "Python (hle_iv)",
   "language": "python",
   "name": "hle_iv"
  },
  "language_info": {
   "codemirror_mode": {
    "name": "ipython",
    "version": 3
   },
   "file_extension": ".py",
   "mimetype": "text/x-python",
   "name": "python",
   "nbconvert_exporter": "python",
   "pygments_lexer": "ipython3",
   "version": "3.12.11"
  }
 },
 "nbformat": 4,
 "nbformat_minor": 5
}
