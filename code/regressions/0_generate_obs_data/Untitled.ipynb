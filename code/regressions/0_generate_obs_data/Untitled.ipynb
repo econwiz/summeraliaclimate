{
 "cells": [
  {
   "cell_type": "code",
   "execution_count": 12,
   "id": "f29ea7af-1ed6-455c-ba0b-9272332c61ef",
   "metadata": {},
   "outputs": [
    {
     "name": "stdout",
     "output_type": "stream",
     "text": [
      "⚠️  No pr_day file found for MERRA2\n",
      "\n",
      "✔️  Generated car_paths.csv:\n",
      "\n",
      " product                                                                                              tas_filepath                                                                                          precip_filepath\n",
      "    GMFD         /shared/share_hle/data/climate_raw/GMFD/tas_day_GMFD_historical_reanalysis_19810101-20101231.zarr         /shared/share_hle/data/climate_raw/GMFD/pr_day_GMFD_historical_reanalysis_19810101-20101231.zarr\n",
      "ERA5-025 /shared/share_hle/data/climate_raw/ERA5-025/tas_day_ERA5-025_historical_reanalysis_19810101-20241231.zarr /shared/share_hle/data/climate_raw/ERA5-025/pr_day_ERA5-025_historical_reanalysis_19810101-20231231.zarr\n",
      "  MERRA2       /shared/share_hle/data/climate_raw/MERRA2/tas_day_MERRA2_historical_reanalysis_19800101-20240801.nc                                                                                                         \n",
      "  JRA-3Q       /shared/share_hle/data/climate_raw/JRA-3Q/tas_day_JRA-3Q_historical_reanalysis_19810101-20241231.nc       /shared/share_hle/data/climate_raw/JRA-3Q/pr_day_JRA-3Q_historical_reanalysis_19810101-20241231.nc\n"
     ]
    }
   ],
   "source": [
    "#!/usr/bin/env python\n",
    "from pathlib import Path\n",
    "import pandas as pd\n",
    "\n",
    "# 1) where your raw climate folders live\n",
    "CLIM_ROOT = Path(\"/shared/share_hle/data/climate_raw\")\n",
    "\n",
    "# 2) the folders you expect to exist under CLIM_ROOT\n",
    "products = [\"GMFD\", \"ERA5-025\", \"MERRA2\", \"JRA-3Q\"]\n",
    "\n",
    "rows = []\n",
    "for prod in products:\n",
    "    prod_dir = CLIM_ROOT / prod\n",
    "    if not prod_dir.exists():\n",
    "        print(f\"⚠️  Missing directory for {prod}: {prod_dir}\")\n",
    "        rows.append({\"product\": prod, \"tas_filepath\": \"\", \"precip_filepath\": \"\"})\n",
    "        continue\n",
    "\n",
    "    # look only for the daily files in that directory\n",
    "    tas_hits = list(prod_dir.glob(\"tas_day*.zarr\")) + list(prod_dir.glob(\"tas_day*.nc\"))\n",
    "    pr_hits  = list(prod_dir.glob(\"pr_day*.zarr\"))  + list(prod_dir.glob(\"pr_day*.nc\"))\n",
    "\n",
    "    if not tas_hits:\n",
    "        print(f\"⚠️  No tas_day file found for {prod}\")\n",
    "    if not pr_hits:\n",
    "        print(f\"⚠️  No pr_day file found for {prod}\")\n",
    "\n",
    "    rows.append({\n",
    "        \"product\": prod,\n",
    "        \"tas_filepath\": str(tas_hits[0]) if tas_hits else \"\",\n",
    "        \"precip_filepath\": str(pr_hits[0]) if pr_hits else \"\"\n",
    "    })\n",
    "\n",
    "# write it out\n",
    "df = pd.DataFrame(rows)\n",
    "df.to_csv(\"car_paths.csv\", index=False)\n",
    "print(\"\\n✔️  Generated car_paths.csv:\\n\")\n",
    "print(df.to_string(index=False))\n"
   ]
  },
  {
   "cell_type": "code",
   "execution_count": 13,
   "id": "340d8702-c602-412c-a7a0-d2bb2db4e9e6",
   "metadata": {},
   "outputs": [
    {
     "name": "stdout",
     "output_type": "stream",
     "text": [
      "unique ADM1: 178\n",
      "unique ADM2: 11010\n"
     ]
    }
   ],
   "source": [
    "import geopandas as gpd\n",
    "\n",
    "shape_path = (\n",
    "    \"/shared/share_hle/data/1_estimation/3_regions/\"\n",
    "    \"insample_shp/mortality_insample_world.shp\"\n",
    ")\n",
    "gdf = gpd.read_file(shape_path, engine=\"fiona\").to_crs(\"EPSG:4326\")\n",
    "\n",
    "# Quick diagnostic: how many unique polygons per adm1 vs. adm2?\n",
    "print(\"unique ADM1:\", gdf[\"adm1_id\"].nunique())\n",
    "print(\"unique ADM2:\", gdf[\"adm2_id\"].nunique())\n"
   ]
  },
  {
   "cell_type": "code",
   "execution_count": 9,
   "id": "e068be2b-ec28-4231-aece-404502309a0b",
   "metadata": {},
   "outputs": [
    {
     "name": "stdout",
     "output_type": "stream",
     "text": [
      "Top‑level directories:\n",
      "   GMFD\n",
      "   ERA5-025\n",
      "   JRA-3Q\n",
      "   MERRA2\n",
      "\n",
      "Some .zarr & .nc stores found (first 10):\n",
      "   GMFD/pr_day_GMFD_historical_reanalysis_19810101-20101231.zarr\n",
      "   GMFD/tas_day_GMFD_historical_reanalysis_19810101-20101231.zarr\n",
      "   GMFD/pr_Amon_GMFD_historical_reanalysis_19810131-20101231.zarr\n",
      "   ERA5-025/tasmax_day_ERA5-025_historical_reanalysis_19810101-20241231_CONUS.zarr\n",
      "   ERA5-025/pr_Amon_ERA5-025_historical_reanalysis_19810101-20221201.zarr\n",
      "   ERA5-025/tas_day_ERA5-025_historical_reanalysis_19810101-20241231.zarr\n",
      "   JRA-3Q/pr_Amon_JRA-3Q_historical_reanalysis_19810101-20241231.nc\n",
      "   JRA-3Q/tas_day_JRA-3Q_historical_reanalysis_19810101-20241231.nc\n",
      "   JRA-3Q/pr_day_JRA-3Q_historical_reanalysis_19810101-20241231.nc\n",
      "   JRA-3Q/tasmax_day_JRA-3Q_historical_reanalysis_19810101-20241231.nc\n",
      "   MERRA2/tasmin_day_MERRA2_historical_reanalysis_19800101-20241231.nc\n",
      "   MERRA2/prcorr_Amon_MERRA2_historical_reanalysis_19800101-20250530.nc\n",
      "   MERRA2/pr_Amon_MERRA2_historical_reanalysis_19800101-20250530.nc\n",
      "   MERRA2/tasmax_day_MERRA2_historical_reanalysis_19800101-20241231.nc\n",
      "   MERRA2/tas_day_MERRA2_historical_reanalysis_19800101-20240801.nc\n"
     ]
    }
   ],
   "source": [
    "from pathlib import Path\n",
    "\n",
    "CLIM_ROOT = Path(\"/shared/share_hle/data/climate_raw\")\n",
    "\n",
    "print(\"Top‑level directories:\")\n",
    "for p in CLIM_ROOT.iterdir():\n",
    "    if p.is_dir():\n",
    "        print(\"  \", p.name)\n",
    "print(\"\\nSome .zarr & .nc stores found (first 10):\")\n",
    "for p in CLIM_ROOT.rglob(\"*.*\"):\n",
    "    if p.suffix in (\".zarr\", \".nc\"):\n",
    "        print(\"  \", p.relative_to(CLIM_ROOT))"
   ]
  }
 ],
 "metadata": {
  "kernelspec": {
   "display_name": "Python (hle_iv)",
   "language": "python",
   "name": "hle_iv"
  },
  "language_info": {
   "codemirror_mode": {
    "name": "ipython",
    "version": 3
   },
   "file_extension": ".py",
   "mimetype": "text/x-python",
   "name": "python",
   "nbconvert_exporter": "python",
   "pygments_lexer": "ipython3",
   "version": "3.12.11"
  }
 },
 "nbformat": 4,
 "nbformat_minor": 5
}
