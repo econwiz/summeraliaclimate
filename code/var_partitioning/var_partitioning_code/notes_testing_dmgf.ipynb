{
 "cells": [
  {
   "cell_type": "code",
   "execution_count": null,
   "id": "90f51f73-bec4-4658-b28b-3d9650ae7902",
   "metadata": {},
   "outputs": [],
   "source": [
    "# %%\n",
    "# rebinding_and_damage_pipeline.ipynb - Annotated Notebook Version\n",
    "# Cell 1: Imports and Configuration\n",
    "import numpy as np                           # Numerical operations\n",
    "import xarray as xr                          # Multi-dimensional labeled arrays\n",
    "import matplotlib.pyplot as plt              # Plotting\n",
    "import cartopy.crs as ccrs                   # Map projections\n",
    "import pandas as pd                          # Table and DataFrame operations"
   ]
  },
  {
   "cell_type": "code",
   "execution_count": null,
   "id": "a1056d85-51dd-477c-8cb2-16034683dc8f",
   "metadata": {},
   "outputs": [],
   "source": [
    "import pandas as pd\n",
    "import xarray as xr\n",
    "\n",
    "dir_list_df = pd.read_csv('/user/ab5405/summeraliaclimate/code/dir_list.csv', index_col=0)\n",
    "dir_list = dir_list_df['dir_path'].to_dict()\n"
   ]
  },
  {
   "cell_type": "code",
   "execution_count": null,
   "id": "57cda783-eee6-4541-8b31-489cb96a1f1c",
   "metadata": {},
   "outputs": [],
   "source": [
    "from funcs_support import get_filepaths\n",
    "\n",
    "df_paths = get_filepaths(source_dir='proc', dir_list=dir_list)\n",
    "df_paths.head()"
   ]
  },
  {
   "cell_type": "code",
   "execution_count": null,
   "id": "06d70e66-511e-4a31-af99-16263c4c74b0",
   "metadata": {},
   "outputs": [],
   "source": [
    "# %%\n",
    "# Cell 2: 10°F Rebin Function Definition\n",
    "\n",
    "def rebin_to_10F_by_groupby(da):\n",
    "    \"\"\"\n",
    "    Re-bin a DataArray from fine Kelvin bins ('bin_f') into 10°F bins.\n",
    "    Returns dims ('bin10F','lat','lon') with coords:\n",
    "      - bin10F    : integer 0..9\n",
    "      - mid_F_degF: midpoint temperature in °F for each bin\n",
    "    \"\"\"\n",
    "    # (a) Define finite 0–100°F edges\n",
    "    edges_F = np.concatenate(([0], np.arange(10, 100, 10), [100]))\n",
    "    # (b) Convert °F edges to Kelvin\n",
    "    edges_K = (edges_F + 459.67) * (5/9)\n",
    "    # (c) Compute midpoints in °F\n",
    "    mid_F = (edges_F[:-1] + edges_F[1:]) / 2\n",
    "\n",
    "    # (d) Extract fine-bin centers (in K)\n",
    "    fine_vals = da['bin_f'].values\n",
    "    # (e) Digitize into 10 groups (0–9)\n",
    "    indices = np.digitize(fine_vals, edges_K) - 1\n",
    "    # (f) Clip out-of-range\n",
    "    indices = np.clip(indices, 0, len(mid_F) - 1)\n",
    "\n",
    "    # (g) Assign integer group labels\n",
    "    da2 = da.assign_coords(bin10F=('bin_f', indices))\n",
    "    # (h) Sum to collapse fine bins into coarse bins\n",
    "    rebinned = da2.groupby('bin10F').sum(dim='bin_f')\n",
    "\n",
    "    # (i) Attach coords: integer labels & real midpoints\n",
    "    rebinned = rebinned.assign_coords({\n",
    "        'bin10F': np.arange(rebinned.sizes['bin10F']),\n",
    "        'mid_F_degF': ('bin10F', mid_F)\n",
    "    })\n",
    "    return rebinned\n"
   ]
  },
  {
   "cell_type": "code",
   "execution_count": null,
   "id": "770f2ae0-0c29-49f4-95a7-9937952bcdb9",
   "metadata": {},
   "outputs": [],
   "source": [
    "df = df_paths.query(\"varname == 'tasdmgfparams' and gwl == 'ALLGWLs'\").copy()"
   ]
  },
  {
   "cell_type": "code",
   "execution_count": null,
   "id": "262a9ec1-63ef-4669-ad08-3e30494f58a2",
   "metadata": {},
   "outputs": [],
   "source": [
    "dmgf = xr.DataArray([0.69,0.59,0.64,0.36,0.27,0,0.12,0.23,0.33,0.94],dims=['bin_rebinned'],coords=[np.arange(1,11)])\n",
    "bins_dng = np.append(np.append(-np.inf,(np.arange(10,91,10)+459.67)*5/9),np.inf)\n",
    "bin_name_dng = '_dng'"
   ]
  },
  {
   "cell_type": "code",
   "execution_count": null,
   "id": "363751ed-ff2f-4f5d-be73-920d7fb791f6",
   "metadata": {},
   "outputs": [],
   "source": [
    "print(dmgf.dims)\n",
    "dmgf_10F = dmgf.rename({'bin_rebinned':'bin10F'})\n",
    "print(dmgf_10F.dims)"
   ]
  },
  {
   "cell_type": "code",
   "execution_count": null,
   "id": "d72020ee-63a2-492d-a38a-c9c767aa529a",
   "metadata": {},
   "outputs": [],
   "source": [
    "# %%\n",
    "# Cell 2: 10°F Rebin Function Definition\n",
    "\n",
    "def rebin_to_10F_by_groupby(da):\n",
    "    \"\"\"\n",
    "    Re-bin a DataArray from fine Kelvin bins ('bin_f') into 10°F bins.\n",
    "    Returns dims ('bin10F','lat','lon') with coords:\n",
    "      - bin10F    : integer 0..9\n",
    "      - mid_F_degF: midpoint temperature in °F for each bin\n",
    "    \"\"\"\n",
    "    # (a) Define finite 0–100°F edges\n",
    "    edges_F = np.concatenate(([0], np.arange(10, 100, 10), [100]))\n",
    "    # (b) Convert °F edges to Kelvin\n",
    "    edges_K = (edges_F + 459.67) * (5/9)\n",
    "    # (c) Compute midpoints in °F\n",
    "    mid_F = (edges_F[:-1] + edges_F[1:]) / 2\n",
    "\n",
    "    # (d) Extract fine-bin centers (in K)\n",
    "    fine_vals = da['bin_f'].values\n",
    "    # (e) Digitize into 10 groups (0–9)\n",
    "    indices = np.digitize(fine_vals, edges_K) - 1\n",
    "    # (f) Clip out-of-range\n",
    "    indices = np.clip(indices, 0, len(mid_F) - 1)\n",
    "\n",
    "    # (g) Assign integer group labels\n",
    "    da2 = da.assign_coords(bin10F=('bin_f', indices))\n",
    "    # (h) Sum to collapse fine bins into coarse bins\n",
    "    rebinned = da2.groupby('bin10F').sum(dim='bin_f')\n",
    "\n",
    "    # (i) Attach coords: integer labels & real midpoints\n",
    "    rebinned = rebinned.assign_coords({\n",
    "        'bin10F': np.arange(rebinned.sizes['bin10F']),\n",
    "        'mid_F_degF': ('bin10F', mid_F)\n",
    "    })\n",
    "    return rebinned\n"
   ]
  },
  {
   "cell_type": "code",
   "execution_count": null,
   "id": "9edb475d-7516-44db-8186-674be613f40d",
   "metadata": {},
   "outputs": [],
   "source": [
    "# Cell 3: 3°C Rebin Function Definition\n",
    "\n",
    "def rebin_to_3C_by_groupby(da):\n",
    "    \"\"\"\n",
    "    Re-bin a DataArray from fine Kelvin bins ('bin_f') into 3°C bins.\n",
    "    Returns dims ('bin3C','lat','lon') with coords:\n",
    "      - bin3C     : integer 0..N-1\n",
    "      - mid_C_degC: midpoint temperature in °C for each bin\n",
    "    \"\"\"\n",
    "    # (a) Define 3°C edges in °C, convert to Kelvin\n",
    "    edges_C = np.concatenate(([-np.inf], np.arange(-15, 31, 3), [np.inf]))\n",
    "    edges_K = edges_C + 273.15\n",
    "    # (b) Compute midpoints in °C\n",
    "    mid_C = (edges_C[:-1] + edges_C[1:]) / 2\n",
    "\n",
    "    # (c) Digitize fine-bin centers into 3°C bins\n",
    "    fine_vals = da['bin_f'].values\n",
    "    indices = np.digitize(fine_vals, edges_K) - 1\n",
    "    indices = np.clip(indices, 0, len(mid_C) - 1)\n",
    "\n",
    "    # (d) Label groups\n",
    "    da2 = da.assign_coords(bin3C=('bin_f', indices))\n",
    "    # (e) Sum to collapse\n",
    "    rebinned = da2.groupby('bin3C').sum(dim='bin_f')\n",
    "\n",
    "    # (f) Attach integer labels & midpoints\n",
    "    rebinned = rebinned.assign_coords({\n",
    "        'bin3C': np.arange(rebinned.sizes['bin3C']),\n",
    "        'mid_C_degC': ('bin3C', mid_C)\n",
    "    })\n",
    "    return rebinned\n"
   ]
  },
  {
   "cell_type": "code",
   "execution_count": null,
   "id": "0edbfa6b-8194-4bfe-a010-3226960a3856",
   "metadata": {},
   "outputs": [],
   "source": [
    "# Cell 4: Define Damage Functions with Coordinates\n",
    "# (a) Mortality (10°F bins)\n",
    "mort_coeffs = [0.69, 0.59, 0.64, 0.36, 0.27, 0.00, 0.12, 0.23, 0.33, 0.94]\n",
    "edges_F = np.arange(0, 110, 10)\n",
    "mid_F = (edges_F[:-1] + edges_F[1:]) / 2\n",
    "\n",
    "dmgf_10F = xr.DataArray(\n",
    "    mort_coeffs,\n",
    "    dims=['bin10F'],\n",
    "    coords={\n",
    "        'bin10F': np.arange(len(mort_coeffs)),\n",
    "        'mid_F_degF': ('bin10F', mid_F)\n",
    "    },\n",
    "    name='mortality_coeff'\n",
    ")\n"
   ]
  },
  {
   "cell_type": "code",
   "execution_count": null,
   "id": "3132c367-a7e2-4e77-9a7b-fc11890f62e8",
   "metadata": {},
   "outputs": [],
   "source": [
    "# (b) GDP-loss (3°C bins)\n",
    "gdp_coeffs = [0.01, 0.02, 0.03, 0.025, 0.02, 0.015, 0.01, 0.005, 0.002, 0.001, 0.0, -0.001, -0.002, -0.003, -0.004, -0.005]\n",
    "edges_C = np.concatenate(([-np.inf], np.arange(-15, 31, 3), [np.inf]))\n",
    "mid_C = (edges_C[:-1] + edges_C[1:]) / 2\n",
    "\n",
    "dmgf_dnh_3C = xr.DataArray(\n",
    "    gdp_coeffs,\n",
    "    dims=['bin3C'],\n",
    "    coords={\n",
    "        'bin3C': np.arange(len(gdp_coeffs)),\n",
    "        'mid_C_degC': ('bin3C', mid_C)\n",
    "    },\n",
    "    name='gdp_loss_coeff'\n",
    ")"
   ]
  },
  {
   "cell_type": "code",
   "execution_count": null,
   "id": "d6bfbd9f-7c13-436d-8b3e-53522da9a7ee",
   "metadata": {},
   "outputs": [],
   "source": [
    "# Cell 5: Load Dataset List and Compute Impacts\n",
    "# Load your DataFrame of model paths (assumes df exists)\n",
    "# df = pd.read_csv('dir_list.csv')\n",
    "\n",
    "impact_dng_list = []\n",
    "model_labels = []\n",
    "for idx, row in df.iterrows():\n",
    "    path = row['path']\n",
    "    ds = xr.open_zarr(path)\n",
    "\n",
    "    # select slices and ensure dims order\n",
    "    old_g2 = ds['bins_behrer'].sel(gwl=2.0, method='nearest').transpose('bin_f','lat','lon')\n",
    "    old_g06 = ds['bins_behrer'].sel(gwl=0.61, method='nearest').transpose('bin_f','lat','lon')\n",
    "\n",
    "    # rebin to coarse bins\n",
    "    reb2 = rebin_to_10F_by_groupby(old_g2)\n",
    "    reb06 = rebin_to_10F_by_groupby(old_g06)\n",
    "    diff_10F = reb2 - reb06\n",
    "\n",
    "    # apply damage function\n",
    "    mort_map = (diff_10F * dmgf_10F).sum(dim='bin10F')\n",
    "\n",
    "    impact_dng_list.append(mort_map)\n",
    "    model_labels.append(row['model'])"
   ]
  },
  {
   "cell_type": "code",
   "execution_count": null,
   "id": "b46a909f-c6fa-4bd2-8893-c4de8bc095d5",
   "metadata": {},
   "outputs": [],
   "source": [
    "# Cell 6: Concatenate Results and Plot\n",
    "impact_all = xr.concat(impact_dng_list, dim='model')\n",
    "impact_all = impact_all.assign_coords(model=model_labels)\n",
    "ensemble_mean = impact_all.mean(dim='model')\n"
   ]
  },
  {
   "cell_type": "code",
   "execution_count": null,
   "id": "c9ef1060-6879-4e54-8af5-2aa61f3e267d",
   "metadata": {},
   "outputs": [],
   "source": [
    "\n",
    "# plotting function definition\n",
    "def plot_map(data, title, cbar_label):\n",
    "    fig, ax = plt.subplots(subplot_kw={'projection': ccrs.PlateCarree()})\n",
    "    mesh = ax.pcolormesh(data['lon'], data['lat'], data.values,\n",
    "                         transform=ccrs.PlateCarree(), cmap='Reds')\n",
    "    cbar = fig.colorbar(mesh, ax=ax, orientation='vertical')\n",
    "    cbar.set_label(cbar_label)\n",
    "    ax.coastlines()\n",
    "    ax.set_title(title)\n",
    "    plt.show()\n"
   ]
  },
  {
   "cell_type": "code",
   "execution_count": null,
   "id": "11cd7084-3254-4558-8e24-ccf6bb51699e",
   "metadata": {},
   "outputs": [],
   "source": [
    "# plot ensemble mean\n",
    "plot_map(ensemble_mean,\n",
    "         \"Ensemble Mean Mortality Impact (2°C vs 0.61°C)\",\n",
    "         \"Deaths per 100k\")\n"
   ]
  }
 ],
 "metadata": {
  "kernelspec": {
   "display_name": "Python (hle_iv)",
   "language": "python",
   "name": "hle_iv"
  },
  "language_info": {
   "codemirror_mode": {
    "name": "ipython",
    "version": 3
   },
   "file_extension": ".py",
   "mimetype": "text/x-python",
   "name": "python",
   "nbconvert_exporter": "python",
   "pygments_lexer": "ipython3",
   "version": "3.12.11"
  }
 },
 "nbformat": 4,
 "nbformat_minor": 5
}
